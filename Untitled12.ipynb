{
  "nbformat": 4,
  "nbformat_minor": 0,
  "metadata": {
    "colab": {
      "provenance": []
    },
    "kernelspec": {
      "name": "python3",
      "display_name": "Python 3"
    },
    "language_info": {
      "name": "python"
    }
  },
  "cells": [
    {
      "cell_type": "code",
      "execution_count": 2,
      "metadata": {
        "colab": {
          "base_uri": "https://localhost:8080/"
        },
        "id": "bC-NCr6ZRKg3",
        "outputId": "4a60c537-3e20-4b9b-e0e5-1937f3bea0a5"
      },
      "outputs": [
        {
          "output_type": "stream",
          "name": "stdout",
          "text": [
            "Kasallik belgisini kiritingqorin og'rig'i\n",
            "Levomitsin\n"
          ]
        }
      ],
      "source": [
        "def kasallik_tashxisi(belgisi):\n",
        "  if belgi==\"istima\":\n",
        "    return \"Parasetamol iching\"\n",
        "  elif belgi==\"tish og'rig'i\":\n",
        "    return \"Qupen iching\"\n",
        "  elif belgi==\"qorin og'rig'i\":\n",
        "    return \"Levomitsin\"\n",
        "  elif belgi==\"bosh og'rig'i\":\n",
        "    return \"Bolnol\"\n",
        "  elif belgi==\"bel og'rig'i\":\n",
        "    return \"nimedgel\"\n",
        "  elif belgi==\"bo'g'im og'rig'i\":\n",
        "    return \"Maz surkang\"\n",
        "  elif belgi==\"Tomoq og'rig'i\":\n",
        "    return \"Septoleta\"\n",
        "  elif belgi==\"Allergiya\":\n",
        "    return \"Setirizin\"\n",
        "  elif belgi==\"Yurak og'rig'i\":\n",
        "    return \"Allapinin\"\n",
        "  elif belgi==\"Me'da\":\n",
        "    return \"Ranitidin\"\n",
        "  else:\n",
        "    return \"Shifokorga murojat qilig\"\n",
        "belgi=input(\"Kasallik belgisini kiriting\")\n",
        "natija=kasallik_tashxisi(belgi)\n",
        "print(natija)"
      ]
    },
    {
      "cell_type": "code",
      "source": [
        "def restaranlar_nomi(belgisi):\n",
        "  if belgi==\"o'zbek milliy taomlar\":\n",
        "    return \"Besh qozon\"\n",
        "  elif belgi==\"o'zbek va xalqaro taomlar\":\n",
        "    return \"Royal Plaza\"\n",
        "  elif belgi==\"o'zbek milliy taomlari manti va plov\":\n",
        "    return \"Samarqand Restaurant\"\n",
        "  elif belgi==\"eng va qulay\":\n",
        "    return \"Alisher Navoi Restaurant\"\n",
        "  elif belgi==\"o'zbek milliy taomlari shashlik va plov\":\n",
        "    return \"Sardor Restaurant\"\n",
        "  elif belgi==\"an'anaviy o'zbek taomlari\":\n",
        "    return \"Farg'ona Palace\"\n",
        "  elif belgi==\"Eng mashhur restoran\":\n",
        "    return \"Shodlik Restaurant\"\n",
        "  elif belgi==\"O'zbekcha va xalqaro\":\n",
        "    return \"Sayram Restaurant\"\n",
        "  elif belgi==\"O'zbek va Markaziy Osiyo\":\n",
        "    return \"Chaihona\"\n",
        "  elif belgi==\"zamonaviy restoran va yuqori sifat\":\n",
        "    return \"Laziz Restaurant\"\n",
        "  else:\n",
        "    return \"Bosh officega murojaat qiling\"\n",
        "belgi=input(\"Taomni nomi kiriting\")\n",
        "natija=restaranlar_nomi(belgi)\n",
        "print(natija)"
      ],
      "metadata": {
        "colab": {
          "base_uri": "https://localhost:8080/"
        },
        "id": "hFxr5Ji_ZPp5",
        "outputId": "4ba20997-92f2-4333-987f-47650fc93ed3"
      },
      "execution_count": 3,
      "outputs": [
        {
          "output_type": "stream",
          "name": "stdout",
          "text": [
            "Taomni nomi kiritingo'zbek milliy taomlar\n",
            "Besh qozon\n"
          ]
        }
      ]
    }
  ]
}